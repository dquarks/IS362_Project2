{
 "cells": [
  {
   "cell_type": "markdown",
   "metadata": {},
   "source": [
    "# Cleaning Datasets Using Pandas"
   ]
  },
  {
   "cell_type": "code",
   "execution_count": 1,
   "metadata": {},
   "outputs": [],
   "source": [
    "import pandas as pd"
   ]
  },
  {
   "cell_type": "code",
   "execution_count": 2,
   "metadata": {},
   "outputs": [],
   "source": [
    "df_dataset_3 = pd.read_csv('dataset_3.csv')"
   ]
  },
  {
   "cell_type": "markdown",
   "metadata": {},
   "source": [
    "_As you can see our first dataset contains very irregular values in the demographic column._\n",
    "_It seems like gender and age are combined in this column._"
   ]
  },
  {
   "cell_type": "code",
   "execution_count": 3,
   "metadata": {},
   "outputs": [
    {
     "data": {
      "text/html": [
       "<div>\n",
       "<style scoped>\n",
       "    .dataframe tbody tr th:only-of-type {\n",
       "        vertical-align: middle;\n",
       "    }\n",
       "\n",
       "    .dataframe tbody tr th {\n",
       "        vertical-align: top;\n",
       "    }\n",
       "\n",
       "    .dataframe thead th {\n",
       "        text-align: right;\n",
       "    }\n",
       "</style>\n",
       "<table border=\"1\" class=\"dataframe\">\n",
       "  <thead>\n",
       "    <tr style=\"text-align: right;\">\n",
       "      <th></th>\n",
       "      <th>iso2</th>\n",
       "      <th>year</th>\n",
       "      <th>demographic</th>\n",
       "      <th>cases</th>\n",
       "    </tr>\n",
       "  </thead>\n",
       "  <tbody>\n",
       "    <tr>\n",
       "      <th>37765</th>\n",
       "      <td>ma</td>\n",
       "      <td>1994</td>\n",
       "      <td>m35-44</td>\n",
       "      <td>200</td>\n",
       "    </tr>\n",
       "    <tr>\n",
       "      <th>112546</th>\n",
       "      <td>lc</td>\n",
       "      <td>2003</td>\n",
       "      <td>f65</td>\n",
       "      <td>1</td>\n",
       "    </tr>\n",
       "    <tr>\n",
       "      <th>44942</th>\n",
       "      <td>sc</td>\n",
       "      <td>2007</td>\n",
       "      <td>m45-54</td>\n",
       "      <td>422</td>\n",
       "    </tr>\n",
       "    <tr>\n",
       "      <th>101567</th>\n",
       "      <td>mt</td>\n",
       "      <td>1986</td>\n",
       "      <td>f45-54</td>\n",
       "      <td>134</td>\n",
       "    </tr>\n",
       "    <tr>\n",
       "      <th>47341</th>\n",
       "      <td>cr</td>\n",
       "      <td>1984</td>\n",
       "      <td>m55-64</td>\n",
       "      <td>3</td>\n",
       "    </tr>\n",
       "  </tbody>\n",
       "</table>\n",
       "</div>"
      ],
      "text/plain": [
       "       iso2  year demographic  cases\n",
       "37765    ma  1994      m35-44    200\n",
       "112546   lc  2003         f65      1\n",
       "44942    sc  2007      m45-54    422\n",
       "101567   mt  1986      f45-54    134\n",
       "47341    cr  1984      m55-64      3"
      ]
     },
     "execution_count": 3,
     "metadata": {},
     "output_type": "execute_result"
    }
   ],
   "source": [
    "df_dataset_3.head()"
   ]
  },
  {
   "cell_type": "markdown",
   "metadata": {},
   "source": [
    "_In order to separate gender ('sex') and age, we have to create new columns and assign them_\n",
    "_values using the existing entries by substrings._"
   ]
  },
  {
   "cell_type": "code",
   "execution_count": 4,
   "metadata": {},
   "outputs": [],
   "source": [
    "df_dataset_3 = (df_dataset_3.assign(\n",
    "sex = lambda x: x.demographic.str[0].astype(str),\n",
    "age = lambda x: x.demographic.str[1:].astype(str)).drop('demographic', axis=1))"
   ]
  },
  {
   "cell_type": "code",
   "execution_count": 5,
   "metadata": {},
   "outputs": [
    {
     "data": {
      "text/html": [
       "<div>\n",
       "<style scoped>\n",
       "    .dataframe tbody tr th:only-of-type {\n",
       "        vertical-align: middle;\n",
       "    }\n",
       "\n",
       "    .dataframe tbody tr th {\n",
       "        vertical-align: top;\n",
       "    }\n",
       "\n",
       "    .dataframe thead th {\n",
       "        text-align: right;\n",
       "    }\n",
       "</style>\n",
       "<table border=\"1\" class=\"dataframe\">\n",
       "  <thead>\n",
       "    <tr style=\"text-align: right;\">\n",
       "      <th></th>\n",
       "      <th>iso2</th>\n",
       "      <th>year</th>\n",
       "      <th>cases</th>\n",
       "      <th>sex</th>\n",
       "      <th>age</th>\n",
       "    </tr>\n",
       "  </thead>\n",
       "  <tbody>\n",
       "    <tr>\n",
       "      <th>101567</th>\n",
       "      <td>mt</td>\n",
       "      <td>1986</td>\n",
       "      <td>134</td>\n",
       "      <td>f</td>\n",
       "      <td>45-54</td>\n",
       "    </tr>\n",
       "    <tr>\n",
       "      <th>44942</th>\n",
       "      <td>sc</td>\n",
       "      <td>2007</td>\n",
       "      <td>422</td>\n",
       "      <td>m</td>\n",
       "      <td>45-54</td>\n",
       "    </tr>\n",
       "    <tr>\n",
       "      <th>47341</th>\n",
       "      <td>cr</td>\n",
       "      <td>1984</td>\n",
       "      <td>3</td>\n",
       "      <td>m</td>\n",
       "      <td>55-64</td>\n",
       "    </tr>\n",
       "    <tr>\n",
       "      <th>112546</th>\n",
       "      <td>lc</td>\n",
       "      <td>2003</td>\n",
       "      <td>1</td>\n",
       "      <td>f</td>\n",
       "      <td>65</td>\n",
       "    </tr>\n",
       "    <tr>\n",
       "      <th>37765</th>\n",
       "      <td>ma</td>\n",
       "      <td>1994</td>\n",
       "      <td>200</td>\n",
       "      <td>m</td>\n",
       "      <td>35-44</td>\n",
       "    </tr>\n",
       "  </tbody>\n",
       "</table>\n",
       "</div>"
      ],
      "text/plain": [
       "       iso2  year  cases sex    age\n",
       "101567   mt  1986    134   f  45-54\n",
       "44942    sc  2007    422   m  45-54\n",
       "47341    cr  1984      3   m  55-64\n",
       "112546   lc  2003      1   f     65\n",
       "37765    ma  1994    200   m  35-44"
      ]
     },
     "execution_count": 5,
     "metadata": {},
     "output_type": "execute_result"
    }
   ],
   "source": [
    "df_dataset_3.sample(5)"
   ]
  },
  {
   "cell_type": "markdown",
   "metadata": {},
   "source": [
    "_Our data set makes a lot more sense now, however we should make it prettier._\n",
    "_All we're going to do now is adjust the formatting so that it's readable._"
   ]
  },
  {
   "cell_type": "code",
   "execution_count": 6,
   "metadata": {},
   "outputs": [],
   "source": [
    "df_dataset_3 = (df_dataset_3.replace(to_replace = ['m', 'f', '65'],\n",
    "                                    value = ['Male', 'Female', '65+']))"
   ]
  },
  {
   "cell_type": "code",
   "execution_count": 7,
   "metadata": {},
   "outputs": [
    {
     "data": {
      "text/html": [
       "<div>\n",
       "<style scoped>\n",
       "    .dataframe tbody tr th:only-of-type {\n",
       "        vertical-align: middle;\n",
       "    }\n",
       "\n",
       "    .dataframe tbody tr th {\n",
       "        vertical-align: top;\n",
       "    }\n",
       "\n",
       "    .dataframe thead th {\n",
       "        text-align: right;\n",
       "    }\n",
       "</style>\n",
       "<table border=\"1\" class=\"dataframe\">\n",
       "  <thead>\n",
       "    <tr style=\"text-align: right;\">\n",
       "      <th></th>\n",
       "      <th>iso2</th>\n",
       "      <th>year</th>\n",
       "      <th>cases</th>\n",
       "      <th>sex</th>\n",
       "      <th>age</th>\n",
       "    </tr>\n",
       "  </thead>\n",
       "  <tbody>\n",
       "    <tr>\n",
       "      <th>37765</th>\n",
       "      <td>ma</td>\n",
       "      <td>1994</td>\n",
       "      <td>200</td>\n",
       "      <td>Male</td>\n",
       "      <td>35-44</td>\n",
       "    </tr>\n",
       "    <tr>\n",
       "      <th>112546</th>\n",
       "      <td>lc</td>\n",
       "      <td>2003</td>\n",
       "      <td>1</td>\n",
       "      <td>Female</td>\n",
       "      <td>65+</td>\n",
       "    </tr>\n",
       "    <tr>\n",
       "      <th>44942</th>\n",
       "      <td>sc</td>\n",
       "      <td>2007</td>\n",
       "      <td>422</td>\n",
       "      <td>Male</td>\n",
       "      <td>45-54</td>\n",
       "    </tr>\n",
       "    <tr>\n",
       "      <th>101567</th>\n",
       "      <td>mt</td>\n",
       "      <td>1986</td>\n",
       "      <td>134</td>\n",
       "      <td>Female</td>\n",
       "      <td>45-54</td>\n",
       "    </tr>\n",
       "    <tr>\n",
       "      <th>47341</th>\n",
       "      <td>cr</td>\n",
       "      <td>1984</td>\n",
       "      <td>3</td>\n",
       "      <td>Male</td>\n",
       "      <td>55-64</td>\n",
       "    </tr>\n",
       "  </tbody>\n",
       "</table>\n",
       "</div>"
      ],
      "text/plain": [
       "       iso2  year  cases     sex    age\n",
       "37765    ma  1994    200    Male  35-44\n",
       "112546   lc  2003      1  Female    65+\n",
       "44942    sc  2007    422    Male  45-54\n",
       "101567   mt  1986    134  Female  45-54\n",
       "47341    cr  1984      3    Male  55-64"
      ]
     },
     "execution_count": 7,
     "metadata": {},
     "output_type": "execute_result"
    }
   ],
   "source": [
    "df_dataset_3"
   ]
  },
  {
   "cell_type": "markdown",
   "metadata": {},
   "source": [
    "_Moving on to our second dataset!_"
   ]
  },
  {
   "cell_type": "code",
   "execution_count": 8,
   "metadata": {},
   "outputs": [],
   "source": [
    "df_dataset_2 = pd.read_csv('dataset_2.csv')"
   ]
  },
  {
   "cell_type": "code",
   "execution_count": 9,
   "metadata": {},
   "outputs": [
    {
     "data": {
      "text/html": [
       "<div>\n",
       "<style scoped>\n",
       "    .dataframe tbody tr th:only-of-type {\n",
       "        vertical-align: middle;\n",
       "    }\n",
       "\n",
       "    .dataframe tbody tr th {\n",
       "        vertical-align: top;\n",
       "    }\n",
       "\n",
       "    .dataframe thead th {\n",
       "        text-align: right;\n",
       "    }\n",
       "</style>\n",
       "<table border=\"1\" class=\"dataframe\">\n",
       "  <thead>\n",
       "    <tr style=\"text-align: right;\">\n",
       "      <th></th>\n",
       "      <th>species</th>\n",
       "      <th>habitat</th>\n",
       "      <th>weight</th>\n",
       "      <th>length</th>\n",
       "      <th>lat_lon</th>\n",
       "      <th>date</th>\n",
       "    </tr>\n",
       "  </thead>\n",
       "  <tbody>\n",
       "    <tr>\n",
       "      <th>0</th>\n",
       "      <td>Alligator mississippiensis</td>\n",
       "      <td>swamp</td>\n",
       "      <td>431</td>\n",
       "      <td>4.0</td>\n",
       "      <td>29.531|-82.184</td>\n",
       "      <td>sep-15-2015</td>\n",
       "    </tr>\n",
       "    <tr>\n",
       "      <th>1</th>\n",
       "      <td>Puma concolor</td>\n",
       "      <td>forest</td>\n",
       "      <td>125</td>\n",
       "      <td>2.2</td>\n",
       "      <td>29.125|-81.682</td>\n",
       "      <td>aug-10-2015</td>\n",
       "    </tr>\n",
       "    <tr>\n",
       "      <th>2</th>\n",
       "      <td>Ursus amricanus</td>\n",
       "      <td>forest</td>\n",
       "      <td>88</td>\n",
       "      <td>133.0</td>\n",
       "      <td>29.429|-80.562</td>\n",
       "      <td>jul-13-2015</td>\n",
       "    </tr>\n",
       "  </tbody>\n",
       "</table>\n",
       "</div>"
      ],
      "text/plain": [
       "                      species habitat  weight  length         lat_lon  \\\n",
       "0  Alligator mississippiensis   swamp     431     4.0  29.531|-82.184   \n",
       "1               Puma concolor  forest     125     2.2  29.125|-81.682   \n",
       "2             Ursus amricanus  forest      88   133.0  29.429|-80.562   \n",
       "\n",
       "          date  \n",
       "0  sep-15-2015  \n",
       "1  aug-10-2015  \n",
       "2  jul-13-2015  "
      ]
     },
     "execution_count": 9,
     "metadata": {},
     "output_type": "execute_result"
    }
   ],
   "source": [
    "df_dataset_2.head()"
   ]
  },
  {
   "cell_type": "markdown",
   "metadata": {},
   "source": [
    "_Here, we are going to split our species column in two columns: genus and species._"
   ]
  },
  {
   "cell_type": "code",
   "execution_count": 10,
   "metadata": {},
   "outputs": [],
   "source": [
    "df_modify = df_dataset_2['species'].apply(lambda x: x.split())"
   ]
  },
  {
   "cell_type": "code",
   "execution_count": 11,
   "metadata": {},
   "outputs": [],
   "source": [
    "df_dataset_2['genus'] = df_modify.apply(lambda x: x[0])"
   ]
  },
  {
   "cell_type": "code",
   "execution_count": 12,
   "metadata": {},
   "outputs": [],
   "source": [
    "df_dataset_2['species'] = df_modify.apply(lambda x: x[1])"
   ]
  },
  {
   "cell_type": "code",
   "execution_count": 13,
   "metadata": {},
   "outputs": [
    {
     "data": {
      "text/html": [
       "<div>\n",
       "<style scoped>\n",
       "    .dataframe tbody tr th:only-of-type {\n",
       "        vertical-align: middle;\n",
       "    }\n",
       "\n",
       "    .dataframe tbody tr th {\n",
       "        vertical-align: top;\n",
       "    }\n",
       "\n",
       "    .dataframe thead th {\n",
       "        text-align: right;\n",
       "    }\n",
       "</style>\n",
       "<table border=\"1\" class=\"dataframe\">\n",
       "  <thead>\n",
       "    <tr style=\"text-align: right;\">\n",
       "      <th></th>\n",
       "      <th>species</th>\n",
       "      <th>habitat</th>\n",
       "      <th>weight</th>\n",
       "      <th>length</th>\n",
       "      <th>lat_lon</th>\n",
       "      <th>date</th>\n",
       "      <th>genus</th>\n",
       "    </tr>\n",
       "  </thead>\n",
       "  <tbody>\n",
       "    <tr>\n",
       "      <th>0</th>\n",
       "      <td>mississippiensis</td>\n",
       "      <td>swamp</td>\n",
       "      <td>431</td>\n",
       "      <td>4.0</td>\n",
       "      <td>29.531|-82.184</td>\n",
       "      <td>sep-15-2015</td>\n",
       "      <td>Alligator</td>\n",
       "    </tr>\n",
       "    <tr>\n",
       "      <th>1</th>\n",
       "      <td>concolor</td>\n",
       "      <td>forest</td>\n",
       "      <td>125</td>\n",
       "      <td>2.2</td>\n",
       "      <td>29.125|-81.682</td>\n",
       "      <td>aug-10-2015</td>\n",
       "      <td>Puma</td>\n",
       "    </tr>\n",
       "    <tr>\n",
       "      <th>2</th>\n",
       "      <td>amricanus</td>\n",
       "      <td>forest</td>\n",
       "      <td>88</td>\n",
       "      <td>133.0</td>\n",
       "      <td>29.429|-80.562</td>\n",
       "      <td>jul-13-2015</td>\n",
       "      <td>Ursus</td>\n",
       "    </tr>\n",
       "  </tbody>\n",
       "</table>\n",
       "</div>"
      ],
      "text/plain": [
       "            species habitat  weight  length         lat_lon         date  \\\n",
       "0  mississippiensis   swamp     431     4.0  29.531|-82.184  sep-15-2015   \n",
       "1          concolor  forest     125     2.2  29.125|-81.682  aug-10-2015   \n",
       "2         amricanus  forest      88   133.0  29.429|-80.562  jul-13-2015   \n",
       "\n",
       "       genus  \n",
       "0  Alligator  \n",
       "1       Puma  \n",
       "2      Ursus  "
      ]
     },
     "execution_count": 13,
     "metadata": {},
     "output_type": "execute_result"
    }
   ],
   "source": [
    "df_dataset_2"
   ]
  },
  {
   "cell_type": "markdown",
   "metadata": {},
   "source": [
    "_Next, we should organize latitude and longitude into individual columns._"
   ]
  },
  {
   "cell_type": "code",
   "execution_count": 14,
   "metadata": {},
   "outputs": [],
   "source": [
    "df_modify = df_dataset_2['lat_lon'].apply(lambda x: x.split('|'))"
   ]
  },
  {
   "cell_type": "code",
   "execution_count": 15,
   "metadata": {},
   "outputs": [],
   "source": [
    "df_dataset_2['latitude'] = df_modify.apply(lambda x: x[0])"
   ]
  },
  {
   "cell_type": "code",
   "execution_count": 16,
   "metadata": {},
   "outputs": [],
   "source": [
    "df_dataset_2['longitude'] = df_modify.apply(lambda x: x[1])"
   ]
  },
  {
   "cell_type": "code",
   "execution_count": 17,
   "metadata": {},
   "outputs": [
    {
     "data": {
      "text/html": [
       "<div>\n",
       "<style scoped>\n",
       "    .dataframe tbody tr th:only-of-type {\n",
       "        vertical-align: middle;\n",
       "    }\n",
       "\n",
       "    .dataframe tbody tr th {\n",
       "        vertical-align: top;\n",
       "    }\n",
       "\n",
       "    .dataframe thead th {\n",
       "        text-align: right;\n",
       "    }\n",
       "</style>\n",
       "<table border=\"1\" class=\"dataframe\">\n",
       "  <thead>\n",
       "    <tr style=\"text-align: right;\">\n",
       "      <th></th>\n",
       "      <th>species</th>\n",
       "      <th>habitat</th>\n",
       "      <th>weight</th>\n",
       "      <th>length</th>\n",
       "      <th>date</th>\n",
       "      <th>genus</th>\n",
       "      <th>latitude</th>\n",
       "      <th>longitude</th>\n",
       "    </tr>\n",
       "  </thead>\n",
       "  <tbody>\n",
       "    <tr>\n",
       "      <th>0</th>\n",
       "      <td>mississippiensis</td>\n",
       "      <td>swamp</td>\n",
       "      <td>431</td>\n",
       "      <td>4.0</td>\n",
       "      <td>sep-15-2015</td>\n",
       "      <td>Alligator</td>\n",
       "      <td>29.531</td>\n",
       "      <td>-82.184</td>\n",
       "    </tr>\n",
       "    <tr>\n",
       "      <th>1</th>\n",
       "      <td>concolor</td>\n",
       "      <td>forest</td>\n",
       "      <td>125</td>\n",
       "      <td>2.2</td>\n",
       "      <td>aug-10-2015</td>\n",
       "      <td>Puma</td>\n",
       "      <td>29.125</td>\n",
       "      <td>-81.682</td>\n",
       "    </tr>\n",
       "    <tr>\n",
       "      <th>2</th>\n",
       "      <td>amricanus</td>\n",
       "      <td>forest</td>\n",
       "      <td>88</td>\n",
       "      <td>133.0</td>\n",
       "      <td>jul-13-2015</td>\n",
       "      <td>Ursus</td>\n",
       "      <td>29.429</td>\n",
       "      <td>-80.562</td>\n",
       "    </tr>\n",
       "  </tbody>\n",
       "</table>\n",
       "</div>"
      ],
      "text/plain": [
       "            species habitat  weight  length         date      genus latitude  \\\n",
       "0  mississippiensis   swamp     431     4.0  sep-15-2015  Alligator   29.531   \n",
       "1          concolor  forest     125     2.2  aug-10-2015       Puma   29.125   \n",
       "2         amricanus  forest      88   133.0  jul-13-2015      Ursus   29.429   \n",
       "\n",
       "  longitude  \n",
       "0   -82.184  \n",
       "1   -81.682  \n",
       "2   -80.562  "
      ]
     },
     "execution_count": 17,
     "metadata": {},
     "output_type": "execute_result"
    }
   ],
   "source": [
    "df_dataset_2.drop('lat_lon',axis=1)"
   ]
  },
  {
   "cell_type": "markdown",
   "metadata": {},
   "source": [
    "_Finally, we will tidy up our final dataset_"
   ]
  },
  {
   "cell_type": "code",
   "execution_count": 18,
   "metadata": {},
   "outputs": [],
   "source": [
    "df_dataset_1 = pd.read_csv('dataset_1.csv')"
   ]
  },
  {
   "cell_type": "code",
   "execution_count": 19,
   "metadata": {},
   "outputs": [
    {
     "data": {
      "text/html": [
       "<div>\n",
       "<style scoped>\n",
       "    .dataframe tbody tr th:only-of-type {\n",
       "        vertical-align: middle;\n",
       "    }\n",
       "\n",
       "    .dataframe tbody tr th {\n",
       "        vertical-align: top;\n",
       "    }\n",
       "\n",
       "    .dataframe thead th {\n",
       "        text-align: right;\n",
       "    }\n",
       "</style>\n",
       "<table border=\"1\" class=\"dataframe\">\n",
       "  <thead>\n",
       "    <tr style=\"text-align: right;\">\n",
       "      <th></th>\n",
       "      <th>name</th>\n",
       "      <th>phone_number</th>\n",
       "      <th>dob</th>\n",
       "      <th>location</th>\n",
       "      <th>job</th>\n",
       "      <th>degree</th>\n",
       "    </tr>\n",
       "  </thead>\n",
       "  <tbody>\n",
       "    <tr>\n",
       "      <th>0</th>\n",
       "      <td>Stacy Adams</td>\n",
       "      <td>313-555-2219</td>\n",
       "      <td>7/23/1998</td>\n",
       "      <td>fl</td>\n",
       "      <td>NaN</td>\n",
       "      <td>no</td>\n",
       "    </tr>\n",
       "    <tr>\n",
       "      <th>1</th>\n",
       "      <td>Alice Walker</td>\n",
       "      <td>212-982-1112</td>\n",
       "      <td>NaN</td>\n",
       "      <td>az</td>\n",
       "      <td>banker</td>\n",
       "      <td>y</td>\n",
       "    </tr>\n",
       "    <tr>\n",
       "      <th>2</th>\n",
       "      <td>Brandon Jermey</td>\n",
       "      <td>646-555-1236</td>\n",
       "      <td>12/18/93</td>\n",
       "      <td>ny</td>\n",
       "      <td>banker</td>\n",
       "      <td>yes</td>\n",
       "    </tr>\n",
       "    <tr>\n",
       "      <th>3</th>\n",
       "      <td>Robert jones</td>\n",
       "      <td>212-999-6597</td>\n",
       "      <td>8/26/1956</td>\n",
       "      <td>nc</td>\n",
       "      <td>retired</td>\n",
       "      <td>n</td>\n",
       "    </tr>\n",
       "  </tbody>\n",
       "</table>\n",
       "</div>"
      ],
      "text/plain": [
       "             name   phone_number         dob  location      job  degree\n",
       "0     Stacy Adams   313-555-2219   7/23/1998        fl      NaN      no\n",
       "1    Alice Walker   212-982-1112         NaN        az   banker       y\n",
       "2  Brandon Jermey   646-555-1236    12/18/93        ny   banker     yes\n",
       "3    Robert jones   212-999-6597   8/26/1956        nc  retired       n"
      ]
     },
     "execution_count": 19,
     "metadata": {},
     "output_type": "execute_result"
    }
   ],
   "source": [
    "df_dataset_1"
   ]
  },
  {
   "cell_type": "code",
   "execution_count": 20,
   "metadata": {},
   "outputs": [],
   "source": [
    "df_modify = df_dataset_1['name'].apply(lambda x: x.split())"
   ]
  },
  {
   "cell_type": "markdown",
   "metadata": {},
   "source": [
    "_First order of businss is the split first and last name into separate columns_"
   ]
  },
  {
   "cell_type": "code",
   "execution_count": 21,
   "metadata": {},
   "outputs": [],
   "source": [
    "df_dataset_1['first_name'] = df_modify.apply(lambda x: x[0])"
   ]
  },
  {
   "cell_type": "code",
   "execution_count": 22,
   "metadata": {},
   "outputs": [],
   "source": [
    "df_dataset_1['last_name'] = df_modify.apply(lambda x: x[1])"
   ]
  },
  {
   "cell_type": "code",
   "execution_count": 23,
   "metadata": {},
   "outputs": [],
   "source": [
    "df = df_dataset_1.drop('name', axis=1)"
   ]
  },
  {
   "cell_type": "markdown",
   "metadata": {},
   "source": [
    "_Next, we need to rearrange our columns, putting first and last name columns first (reading left to right)_"
   ]
  },
  {
   "cell_type": "code",
   "execution_count": 24,
   "metadata": {},
   "outputs": [],
   "source": [
    "cols = df.columns.to_list()"
   ]
  },
  {
   "cell_type": "code",
   "execution_count": 25,
   "metadata": {},
   "outputs": [
    {
     "data": {
      "text/plain": [
       "['phone_number',\n",
       " ' dob',\n",
       " ' location',\n",
       " ' job',\n",
       " ' degree',\n",
       " 'first_name',\n",
       " 'last_name']"
      ]
     },
     "execution_count": 25,
     "metadata": {},
     "output_type": "execute_result"
    }
   ],
   "source": [
    "cols"
   ]
  },
  {
   "cell_type": "code",
   "execution_count": 26,
   "metadata": {},
   "outputs": [],
   "source": [
    "cols = cols[-2:] + cols[:-2]"
   ]
  },
  {
   "cell_type": "code",
   "execution_count": 27,
   "metadata": {},
   "outputs": [],
   "source": [
    "df = df[cols]"
   ]
  },
  {
   "cell_type": "code",
   "execution_count": 28,
   "metadata": {},
   "outputs": [
    {
     "data": {
      "text/html": [
       "<div>\n",
       "<style scoped>\n",
       "    .dataframe tbody tr th:only-of-type {\n",
       "        vertical-align: middle;\n",
       "    }\n",
       "\n",
       "    .dataframe tbody tr th {\n",
       "        vertical-align: top;\n",
       "    }\n",
       "\n",
       "    .dataframe thead th {\n",
       "        text-align: right;\n",
       "    }\n",
       "</style>\n",
       "<table border=\"1\" class=\"dataframe\">\n",
       "  <thead>\n",
       "    <tr style=\"text-align: right;\">\n",
       "      <th></th>\n",
       "      <th>first_name</th>\n",
       "      <th>last_name</th>\n",
       "      <th>phone_number</th>\n",
       "      <th>dob</th>\n",
       "      <th>location</th>\n",
       "      <th>job</th>\n",
       "      <th>degree</th>\n",
       "    </tr>\n",
       "  </thead>\n",
       "  <tbody>\n",
       "    <tr>\n",
       "      <th>0</th>\n",
       "      <td>Stacy</td>\n",
       "      <td>Adams</td>\n",
       "      <td>313-555-2219</td>\n",
       "      <td>7/23/1998</td>\n",
       "      <td>fl</td>\n",
       "      <td>NaN</td>\n",
       "      <td>no</td>\n",
       "    </tr>\n",
       "    <tr>\n",
       "      <th>1</th>\n",
       "      <td>Alice</td>\n",
       "      <td>Walker</td>\n",
       "      <td>212-982-1112</td>\n",
       "      <td>NaN</td>\n",
       "      <td>az</td>\n",
       "      <td>banker</td>\n",
       "      <td>y</td>\n",
       "    </tr>\n",
       "    <tr>\n",
       "      <th>2</th>\n",
       "      <td>Brandon</td>\n",
       "      <td>Jermey</td>\n",
       "      <td>646-555-1236</td>\n",
       "      <td>12/18/93</td>\n",
       "      <td>ny</td>\n",
       "      <td>banker</td>\n",
       "      <td>yes</td>\n",
       "    </tr>\n",
       "    <tr>\n",
       "      <th>3</th>\n",
       "      <td>Robert</td>\n",
       "      <td>jones</td>\n",
       "      <td>212-999-6597</td>\n",
       "      <td>8/26/1956</td>\n",
       "      <td>nc</td>\n",
       "      <td>retired</td>\n",
       "      <td>n</td>\n",
       "    </tr>\n",
       "  </tbody>\n",
       "</table>\n",
       "</div>"
      ],
      "text/plain": [
       "  first_name last_name   phone_number         dob  location      job  degree\n",
       "0      Stacy     Adams   313-555-2219   7/23/1998        fl      NaN      no\n",
       "1      Alice    Walker   212-982-1112         NaN        az   banker       y\n",
       "2    Brandon    Jermey   646-555-1236    12/18/93        ny   banker     yes\n",
       "3     Robert     jones   212-999-6597   8/26/1956        nc  retired       n"
      ]
     },
     "execution_count": 28,
     "metadata": {},
     "output_type": "execute_result"
    }
   ],
   "source": [
    "df"
   ]
  },
  {
   "cell_type": "markdown",
   "metadata": {},
   "source": [
    "_Let's do some final touches to our data so that it is presentable._"
   ]
  },
  {
   "cell_type": "code",
   "execution_count": 29,
   "metadata": {},
   "outputs": [],
   "source": [
    "df = (df.replace(to_replace = ['no','n', 'y', 'yes'],value = ['N', 'N', 'Y', 'Y']))"
   ]
  },
  {
   "cell_type": "markdown",
   "metadata": {},
   "source": [
    "_Here, we use Pandas' built-in fill NaN function to replace all NaNs with 'None'_"
   ]
  },
  {
   "cell_type": "code",
   "execution_count": 30,
   "metadata": {},
   "outputs": [],
   "source": [
    "df.fillna('None', inplace=True)"
   ]
  },
  {
   "cell_type": "code",
   "execution_count": 31,
   "metadata": {},
   "outputs": [
    {
     "data": {
      "text/html": [
       "<div>\n",
       "<style scoped>\n",
       "    .dataframe tbody tr th:only-of-type {\n",
       "        vertical-align: middle;\n",
       "    }\n",
       "\n",
       "    .dataframe tbody tr th {\n",
       "        vertical-align: top;\n",
       "    }\n",
       "\n",
       "    .dataframe thead th {\n",
       "        text-align: right;\n",
       "    }\n",
       "</style>\n",
       "<table border=\"1\" class=\"dataframe\">\n",
       "  <thead>\n",
       "    <tr style=\"text-align: right;\">\n",
       "      <th></th>\n",
       "      <th>first_name</th>\n",
       "      <th>last_name</th>\n",
       "      <th>phone_number</th>\n",
       "      <th>dob</th>\n",
       "      <th>location</th>\n",
       "      <th>job</th>\n",
       "      <th>degree</th>\n",
       "    </tr>\n",
       "  </thead>\n",
       "  <tbody>\n",
       "    <tr>\n",
       "      <th>0</th>\n",
       "      <td>Stacy</td>\n",
       "      <td>Adams</td>\n",
       "      <td>313-555-2219</td>\n",
       "      <td>7/23/1998</td>\n",
       "      <td>fl</td>\n",
       "      <td>None</td>\n",
       "      <td>N</td>\n",
       "    </tr>\n",
       "    <tr>\n",
       "      <th>1</th>\n",
       "      <td>Alice</td>\n",
       "      <td>Walker</td>\n",
       "      <td>212-982-1112</td>\n",
       "      <td>None</td>\n",
       "      <td>az</td>\n",
       "      <td>banker</td>\n",
       "      <td>Y</td>\n",
       "    </tr>\n",
       "    <tr>\n",
       "      <th>2</th>\n",
       "      <td>Brandon</td>\n",
       "      <td>Jermey</td>\n",
       "      <td>646-555-1236</td>\n",
       "      <td>12/18/93</td>\n",
       "      <td>ny</td>\n",
       "      <td>banker</td>\n",
       "      <td>Y</td>\n",
       "    </tr>\n",
       "    <tr>\n",
       "      <th>3</th>\n",
       "      <td>Robert</td>\n",
       "      <td>jones</td>\n",
       "      <td>212-999-6597</td>\n",
       "      <td>8/26/1956</td>\n",
       "      <td>nc</td>\n",
       "      <td>retired</td>\n",
       "      <td>N</td>\n",
       "    </tr>\n",
       "  </tbody>\n",
       "</table>\n",
       "</div>"
      ],
      "text/plain": [
       "  first_name last_name   phone_number         dob  location      job  degree\n",
       "0      Stacy     Adams   313-555-2219   7/23/1998        fl     None       N\n",
       "1      Alice    Walker   212-982-1112        None        az   banker       Y\n",
       "2    Brandon    Jermey   646-555-1236    12/18/93        ny   banker       Y\n",
       "3     Robert     jones   212-999-6597   8/26/1956        nc  retired       N"
      ]
     },
     "execution_count": 31,
     "metadata": {},
     "output_type": "execute_result"
    }
   ],
   "source": [
    "df"
   ]
  },
  {
   "cell_type": "code",
   "execution_count": null,
   "metadata": {},
   "outputs": [],
   "source": []
  }
 ],
 "metadata": {
  "kernelspec": {
   "display_name": "Python 3",
   "language": "python",
   "name": "python3"
  },
  "language_info": {
   "codemirror_mode": {
    "name": "ipython",
    "version": 3
   },
   "file_extension": ".py",
   "mimetype": "text/x-python",
   "name": "python",
   "nbconvert_exporter": "python",
   "pygments_lexer": "ipython3",
   "version": "3.8.1"
  }
 },
 "nbformat": 4,
 "nbformat_minor": 4
}
